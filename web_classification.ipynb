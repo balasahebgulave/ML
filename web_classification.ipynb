{
 "cells": [
  {
   "cell_type": "code",
   "execution_count": 12,
   "metadata": {},
   "outputs": [
    {
     "name": "stdout",
     "output_type": "stream",
     "text": [
      "error============ HTTPConnectionPool(host='https', port=80): Max retries exceeded with url: //www.onlinesbi.com/ (Caused by NewConnectionError('<urllib3.connection.HTTPConnection object at 0x000001E99231D278>: Failed to establish a new connection: [Errno 11001] getaddrinfo failed',))\n",
      "not found\n",
      "error============ HTTPConnectionPool(host='https', port=80): Max retries exceeded with url: //www.idbi.com/index.asp (Caused by NewConnectionError('<urllib3.connection.HTTPConnection object at 0x000001E99231D048>: Failed to establish a new connection: [Errno 11001] getaddrinfo failed',))\n",
      "not found\n",
      "(['not found', 'not found'], ['not found', 'not found'])\n"
     ]
    }
   ]
   
